{
 "cells": [
  {
   "cell_type": "markdown",
   "metadata": {},
   "source": [
    "### Random TN "
   ]
  },
  {
   "cell_type": "code",
   "execution_count": 3,
   "metadata": {},
   "outputs": [],
   "source": [
    "import numpy as np\n",
    "import ast\n",
    "from scipy.stats import unitary_group\n",
    "import matplotlib.pyplot as plt\n",
    "from quimb import *\n",
    "from quimb.tensor import *\n",
    "import sympy as sym\n",
    "\n",
    "from joblib import Parallel, delayed\n",
    "import pandas as pd\n",
    "import time\n",
    "\n",
    "import scipy as sp\n",
    "from scipy import linalg\n",
    "import pickle\n",
    "\n",
    "#from Devicesim/JC_functions import *"
   ]
  },
  {
   "cell_type": "code",
   "execution_count": 11,
   "metadata": {},
   "outputs": [],
   "source": [
    "N = 50\n",
    "chi = 20\n",
    "\n",
    "x_list = list(range(3, N-1, 2))"
   ]
  },
  {
   "cell_type": "code",
   "execution_count": 3,
   "metadata": {},
   "outputs": [],
   "source": [
    "def make_MPS(theta):\n",
    "    A_JC = MPS_JC_2site(chi,theta)\n",
    "    BL = np.zeros((2, chi, chi))\n",
    "    BL[0,0,0] = 1\n",
    "\n",
    "    MPS_list = [A_JC for i in range(N)]\n",
    "    MPS_list.insert(0, BL)\n",
    "    MPS_list.append(BL)\n",
    "\n",
    "    JC_MPS = MatrixProductState(MPS_list, shape = 'plr')\n",
    "    JC_MPS.cyclic = False\n",
    "    JC_MPS.normalize()\n",
    "\n",
    "    return JC_MPS"
   ]
  },
  {
   "cell_type": "markdown",
   "metadata": {},
   "source": [
    "Lets make motz:"
   ]
  },
  {
   "cell_type": "code",
   "execution_count": 20,
   "metadata": {},
   "outputs": [
    {
     "data": {
      "text/plain": [
       "0.08909648420202856"
      ]
     },
     "execution_count": 20,
     "metadata": {},
     "output_type": "execute_result"
    }
   ],
   "source": [
    "pL, pR = [.2,.2]\n",
    "\n",
    "\n",
    "A_Motz = MPS_Motzkin(chi, pL,pR)\n",
    "BL = np.zeros((2, chi, chi))\n",
    "BL[0,0,0] = 1\n",
    "\n",
    "MPS_list = [A_Motz for i in range(N)]\n",
    "MPS_list.insert(0, BL)\n",
    "MPS_list.append(BL)\n",
    "\n",
    "Motz_MPS = MatrixProductState(MPS_list, shape = 'plr')\n",
    "Motz_MPS.cyclic = False\n",
    "Motz_MPS.normalize()\n",
    " "
   ]
  },
  {
   "cell_type": "markdown",
   "metadata": {},
   "source": [
    "# First lets look at distrubution of chains with uniform theta "
   ]
  },
  {
   "cell_type": "code",
   "execution_count": 4,
   "metadata": {},
   "outputs": [],
   "source": [
    "samples = 800\n",
    "theta_samples = 2*np.pi*np.random.random(samples)"
   ]
  },
  {
   "cell_type": "code",
   "execution_count": 5,
   "metadata": {},
   "outputs": [],
   "source": [
    "MPS_samples = Parallel(n_jobs=-1)(delayed(make_MPS)(theta) for theta in theta_samples)"
   ]
  },
  {
   "cell_type": "markdown",
   "metadata": {},
   "source": [
    "# Now lets compute average corr fcns"
   ]
  },
  {
   "cell_type": "code",
   "execution_count": 24,
   "metadata": {},
   "outputs": [],
   "source": [
    "Z_A, Z_B = [np.kron(pauli('Z'), np.eye(2)), np.kron(np.eye(2),pauli('Z'))]\n",
    "X_A, X_B = [np.kron(pauli('X'), np.eye(2)), np.kron(np.eye(2),pauli('X'))]\n",
    "Y_A, Y_B = [np.kron(pauli('Y'), np.eye(2)), np.kron(np.eye(2),pauli('Y'))]\n"
   ]
  },
  {
   "cell_type": "code",
   "execution_count": 26,
   "metadata": {},
   "outputs": [],
   "source": [
    "def ZZ(MPS):\n",
    "    \n",
    "    return [MPS.correlation(Z_A+Z_B,2,x) for x in x_list]\n",
    "\n",
    "def XX(MPS):\n",
    "    \n",
    "    return [MPS.correlation(X_A+X_B,2,x) for x in x_list]\n",
    "\n",
    "def YY(MPS):\n",
    "    \n",
    "    return [MPS.correlation(Y_A+Y_B,2,x) for x in x_list]"
   ]
  },
  {
   "cell_type": "code",
   "execution_count": 8,
   "metadata": {},
   "outputs": [
    {
     "name": "stderr",
     "output_type": "stream",
     "text": [
      "[Parallel(n_jobs=-1)]: Using backend LokyBackend with 96 concurrent workers.\n",
      "[Parallel(n_jobs=-1)]: Done   8 tasks      | elapsed:  3.7min\n",
      "[Parallel(n_jobs=-1)]: Done  29 tasks      | elapsed:  3.8min\n",
      "[Parallel(n_jobs=-1)]: Done  50 tasks      | elapsed:  4.0min\n",
      "[Parallel(n_jobs=-1)]: Done  73 tasks      | elapsed:  4.2min\n",
      "[Parallel(n_jobs=-1)]: Done  96 tasks      | elapsed:  4.6min\n",
      "[Parallel(n_jobs=-1)]: Done 121 tasks      | elapsed:  7.6min\n",
      "[Parallel(n_jobs=-1)]: Done 146 tasks      | elapsed:  8.1min\n",
      "[Parallel(n_jobs=-1)]: Done 173 tasks      | elapsed:  8.3min\n",
      "[Parallel(n_jobs=-1)]: Done 200 tasks      | elapsed: 11.4min\n",
      "[Parallel(n_jobs=-1)]: Done 229 tasks      | elapsed: 11.6min\n",
      "[Parallel(n_jobs=-1)]: Done 258 tasks      | elapsed: 12.2min\n",
      "[Parallel(n_jobs=-1)]: Done 289 tasks      | elapsed: 14.9min\n",
      "[Parallel(n_jobs=-1)]: Done 320 tasks      | elapsed: 15.5min\n",
      "[Parallel(n_jobs=-1)]: Done 353 tasks      | elapsed: 16.1min\n",
      "[Parallel(n_jobs=-1)]: Done 386 tasks      | elapsed: 18.8min\n",
      "[Parallel(n_jobs=-1)]: Done 421 tasks      | elapsed: 19.5min\n",
      "[Parallel(n_jobs=-1)]: Done 456 tasks      | elapsed: 20.1min\n",
      "[Parallel(n_jobs=-1)]: Done 493 tasks      | elapsed: 22.9min\n",
      "[Parallel(n_jobs=-1)]: Done 530 tasks      | elapsed: 23.7min\n",
      "[Parallel(n_jobs=-1)]: Done 569 tasks      | elapsed: 24.4min\n",
      "[Parallel(n_jobs=-1)]: Done 608 tasks      | elapsed: 27.1min\n",
      "[Parallel(n_jobs=-1)]: Done 690 out of 800 | elapsed: 30.7min remaining:  4.9min\n",
      "[Parallel(n_jobs=-1)]: Done 771 out of 800 | elapsed: 32.3min remaining:  1.2min\n"
     ]
    },
    {
     "name": "stdout",
     "output_type": "stream",
     "text": [
      "1950.9766490459442\n"
     ]
    },
    {
     "name": "stderr",
     "output_type": "stream",
     "text": [
      "[Parallel(n_jobs=-1)]: Done 800 out of 800 | elapsed: 32.5min finished\n"
     ]
    }
   ],
   "source": [
    "t1 = time.time()\n",
    "ZZ_data = Parallel(n_jobs=-1, verbose =10)(delayed(ZZ)(MPS) for MPS in MPS_samples)\n",
    "\n",
    "print(time.time()-t1)\n",
    "\n",
    "with open('ZZ_random.pickle', 'wb') as file:\n",
    "    pickle.dump(ZZ_data, file)"
   ]
  },
  {
   "cell_type": "code",
   "execution_count": 9,
   "metadata": {},
   "outputs": [
    {
     "name": "stderr",
     "output_type": "stream",
     "text": [
      "[Parallel(n_jobs=-1)]: Using backend LokyBackend with 96 concurrent workers.\n",
      "[Parallel(n_jobs=-1)]: Done   8 tasks      | elapsed:  3.6min\n",
      "[Parallel(n_jobs=-1)]: Done  29 tasks      | elapsed:  3.9min\n",
      "[Parallel(n_jobs=-1)]: Done  50 tasks      | elapsed:  4.0min\n",
      "[Parallel(n_jobs=-1)]: Done  73 tasks      | elapsed:  4.1min\n",
      "[Parallel(n_jobs=-1)]: Done  96 tasks      | elapsed:  4.4min\n",
      "[Parallel(n_jobs=-1)]: Done 121 tasks      | elapsed:  7.7min\n",
      "[Parallel(n_jobs=-1)]: Done 146 tasks      | elapsed:  7.9min\n",
      "[Parallel(n_jobs=-1)]: Done 173 tasks      | elapsed:  8.0min\n",
      "[Parallel(n_jobs=-1)]: Done 200 tasks      | elapsed: 11.4min\n",
      "[Parallel(n_jobs=-1)]: Done 229 tasks      | elapsed: 11.7min\n",
      "[Parallel(n_jobs=-1)]: Done 258 tasks      | elapsed: 11.9min\n",
      "[Parallel(n_jobs=-1)]: Done 289 tasks      | elapsed: 15.2min\n",
      "[Parallel(n_jobs=-1)]: Done 320 tasks      | elapsed: 15.6min\n",
      "[Parallel(n_jobs=-1)]: Done 353 tasks      | elapsed: 15.8min\n",
      "[Parallel(n_jobs=-1)]: Done 386 tasks      | elapsed: 19.0min\n",
      "[Parallel(n_jobs=-1)]: Done 421 tasks      | elapsed: 19.5min\n",
      "[Parallel(n_jobs=-1)]: Done 456 tasks      | elapsed: 19.8min\n",
      "[Parallel(n_jobs=-1)]: Done 493 tasks      | elapsed: 23.2min\n",
      "[Parallel(n_jobs=-1)]: Done 530 tasks      | elapsed: 23.5min\n",
      "[Parallel(n_jobs=-1)]: Done 569 tasks      | elapsed: 23.9min\n",
      "[Parallel(n_jobs=-1)]: Done 608 tasks      | elapsed: 27.2min\n",
      "[Parallel(n_jobs=-1)]: Done 690 out of 800 | elapsed: 31.0min remaining:  4.9min\n",
      "[Parallel(n_jobs=-1)]: Done 771 out of 800 | elapsed: 32.3min remaining:  1.2min\n"
     ]
    },
    {
     "name": "stdout",
     "output_type": "stream",
     "text": [
      "1947.8644323349\n"
     ]
    },
    {
     "name": "stderr",
     "output_type": "stream",
     "text": [
      "[Parallel(n_jobs=-1)]: Done 800 out of 800 | elapsed: 32.5min finished\n"
     ]
    }
   ],
   "source": [
    "t1 = time.time()\n",
    "XX_data = Parallel(n_jobs=-1, verbose =10)(delayed(XX)(MPS) for MPS in MPS_samples)\n",
    "\n",
    "print(time.time()-t1)\n",
    "\n",
    "with open('XX_random.pickle', 'wb') as file:\n",
    "    pickle.dump(XX_data, file)"
   ]
  },
  {
   "cell_type": "code",
   "execution_count": 27,
   "metadata": {},
   "outputs": [
    {
     "name": "stderr",
     "output_type": "stream",
     "text": [
      "[Parallel(n_jobs=-1)]: Using backend LokyBackend with 96 concurrent workers.\n",
      "[Parallel(n_jobs=-1)]: Done   8 tasks      | elapsed:  3.8min\n",
      "[Parallel(n_jobs=-1)]: Done  30 out of 200 | elapsed:  4.0min remaining: 22.4min\n",
      "[Parallel(n_jobs=-1)]: Done  51 out of 200 | elapsed:  4.3min remaining: 12.5min\n",
      "[Parallel(n_jobs=-1)]: Done  72 out of 200 | elapsed:  4.4min remaining:  7.8min\n",
      "[Parallel(n_jobs=-1)]: Done  93 out of 200 | elapsed:  4.6min remaining:  5.3min\n",
      "[Parallel(n_jobs=-1)]: Done 114 out of 200 | elapsed:  7.6min remaining:  5.7min\n",
      "[Parallel(n_jobs=-1)]: Done 135 out of 200 | elapsed:  7.8min remaining:  3.8min\n",
      "[Parallel(n_jobs=-1)]: Done 156 out of 200 | elapsed:  8.3min remaining:  2.3min\n",
      "[Parallel(n_jobs=-1)]: Done 177 out of 200 | elapsed:  8.4min remaining:  1.1min\n",
      "[Parallel(n_jobs=-1)]: Done 198 out of 200 | elapsed:  8.4min remaining:    5.1s\n"
     ]
    },
    {
     "name": "stdout",
     "output_type": "stream",
     "text": [
      "507.0958845615387\n"
     ]
    },
    {
     "name": "stderr",
     "output_type": "stream",
     "text": [
      "[Parallel(n_jobs=-1)]: Done 200 out of 200 | elapsed:  8.5min finished\n"
     ]
    }
   ],
   "source": [
    "t1 = time.time()\n",
    "YY_data = Parallel(n_jobs=-1, verbose =10)(delayed(YY)(MPS) for MPS in MPS_samples[:200])\n",
    "\n",
    "print(time.time()-t1)\n",
    "\n",
    "with open('YY_random.pickle', 'wb') as file:\n",
    "    pickle.dump(YY_data, file)"
   ]
  },
  {
   "cell_type": "markdown",
   "metadata": {},
   "source": [
    "Let's get Motz data:"
   ]
  },
  {
   "cell_type": "code",
   "execution_count": 9,
   "metadata": {},
   "outputs": [],
   "source": [
    "Zspin1 = pauli('Z', dim=3)\n",
    "Xspin1 = pauli('X', dim=3)"
   ]
  },
  {
   "cell_type": "code",
   "execution_count": 22,
   "metadata": {},
   "outputs": [],
   "source": [
    "ZZ_Motz = [Motz_MPS.correlation(Zspin1, 2, x) for x in x_list ]\n",
    "XX_Motz = [Motz_MPS.correlation(Xspin1, 2, x) for x in x_list ]"
   ]
  },
  {
   "cell_type": "markdown",
   "metadata": {},
   "source": [
    "## Now lets average this data over our theta distribution:"
   ]
  },
  {
   "cell_type": "code",
   "execution_count": 4,
   "metadata": {},
   "outputs": [],
   "source": [
    "with open('XX_random.pickle', 'rb') as file:\n",
    "    XX_data = pickle.load(file)\n",
    "\n",
    "with open('ZZ_random.pickle', 'rb') as file:\n",
    "    ZZ_data = pickle.load(file)\n",
    "\n",
    "with open('YY_random.pickle', 'rb') as file:\n",
    "    YY_data = pickle.load(file)"
   ]
  },
  {
   "cell_type": "code",
   "execution_count": 6,
   "metadata": {},
   "outputs": [],
   "source": [
    "ZZ_mat, XX_mat, YY_mat = [np.array(ZZ_data), np.array(XX_data), np.array(YY_data)]\n"
   ]
  },
  {
   "cell_type": "code",
   "execution_count": 14,
   "metadata": {},
   "outputs": [
    {
     "name": "stderr",
     "output_type": "stream",
     "text": [
      "/Library/Frameworks/Python.framework/Versions/3.10/lib/python3.10/site-packages/matplotlib/cbook/__init__.py:1369: ComplexWarning: Casting complex values to real discards the imaginary part\n",
      "  return np.asarray(x, float)\n"
     ]
    },
    {
     "data": {
      "text/plain": [
       "<matplotlib.legend.Legend at 0x284153ca0>"
      ]
     },
     "execution_count": 14,
     "metadata": {},
     "output_type": "execute_result"
    },
    {
     "data": {
      "image/png": "[encoded data removed]",
      "text/plain": [
       "<Figure size 1500x800 with 1 Axes>"
      ]
     },
     "metadata": {},
     "output_type": "display_data"
    }
   ],
   "source": [
    "plt.figure(figsize=(15,8))\n",
    "plt.plot(x_list, ZZ_mat.mean(axis=0), '.--', label = \"ZZ\")\n",
    "plt.plot(x_list, XX_mat.mean(axis=0), '.--', label = 'XX')\n",
    "#plt.plot(x_list,YY_mat.mean(axis =0), label = 'YY')\n",
    "#plt.plot(x_list, ZZ_Motz, '.-', label = \"ZZ Motz\")\n",
    "#plt.plot(x_list, XX_Motz, '.-', label = 'XX Motz')\n",
    "plt.hlines(0,0,50)\n",
    "plt.legend()"
   ]
  },
  {
   "cell_type": "markdown",
   "metadata": {},
   "source": [
    "Now YY"
   ]
  },
  {
   "cell_type": "code",
   "execution_count": 16,
   "metadata": {},
   "outputs": [
    {
     "data": {
      "text/plain": [
       "262144"
      ]
     },
     "execution_count": 16,
     "metadata": {},
     "output_type": "execute_result"
    }
   ],
   "source": [
    "2**18"
   ]
  },
  {
   "cell_type": "code",
   "execution_count": null,
   "metadata": {},
   "outputs": [],
   "source": []
  }
 ],
 "metadata": {
  "kernelspec": {
   "display_name": "Python 3.10.8 64-bit",
   "language": "python",
   "name": "python3"
  },
  "language_info": {
   "codemirror_mode": {
    "name": "ipython",
    "version": 3
   },
   "file_extension": ".py",
   "mimetype": "text/x-python",
   "name": "python",
   "nbconvert_exporter": "python",
   "pygments_lexer": "ipython3",
   "version": "3.10.8"
  },
  "vscode": {
   "interpreter": {
    "hash": "aee8b7b246df8f9039afb4144a1f6fd8d2ca17a180786b69acc140d282b71a49"
   }
  }
 },
 "nbformat": 4,
 "nbformat_minor": 2
}
