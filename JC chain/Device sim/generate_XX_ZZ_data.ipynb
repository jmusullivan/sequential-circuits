{
 "cells": [
  {
   "cell_type": "markdown",
   "metadata": {},
   "source": [
    "# Correlation fcs (XX and ZZ) for JC MPS"
   ]
  },
  {
   "cell_type": "markdown",
   "metadata": {},
   "source": [
    "Recall our $\\theta \\in [3 \\sqrt{\\pi}/n |n \\in [1,..9]] $ and $L \\in [10,30,100,200,800]$"
   ]
  },
  {
   "cell_type": "code",
   "execution_count": 1,
   "metadata": {},
   "outputs": [],
   "source": [
    "import numpy as np\n",
    "import ast\n",
    "from scipy.stats import unitary_group\n",
    "import matplotlib.pyplot as plt\n",
    "from quimb import *\n",
    "from quimb.tensor import *\n",
    "import sympy as sym\n",
    "\n",
    "from joblib import Parallel, delayed\n",
    "import pandas as pd\n",
    "import time\n",
    "\n",
    "import scipy as sp\n",
    "from scipy import linalg\n",
    "import pickle\n",
    "\n",
    "from JC_functions import *"
   ]
  },
  {
   "cell_type": "code",
   "execution_count": 2,
   "metadata": {},
   "outputs": [],
   "source": [
    "N_list = [10, 30, 100, 200, 800]\n",
    "theta_list = [3*np.sqrt(np.pi)/i for i in range(1,10)]"
   ]
  },
  {
   "cell_type": "markdown",
   "metadata": {},
   "source": [
    "## Unpickle MPS for JC and Motzkin sttates"
   ]
  },
  {
   "cell_type": "code",
   "execution_count": 3,
   "metadata": {},
   "outputs": [
    {
     "ename": "EOFError",
     "evalue": "Ran out of input",
     "output_type": "error",
     "traceback": [
      "\u001b[0;31m---------------------------------------------------------------------------\u001b[0m",
      "\u001b[0;31mEOFError\u001b[0m                                  Traceback (most recent call last)",
      "Cell \u001b[0;32mIn [3], line 2\u001b[0m\n\u001b[1;32m      1\u001b[0m \u001b[39mwith\u001b[39;00m \u001b[39mopen\u001b[39m(\u001b[39m'\u001b[39m\u001b[39mJC_MPS.pickle\u001b[39m\u001b[39m'\u001b[39m, \u001b[39m'\u001b[39m\u001b[39mrb\u001b[39m\u001b[39m'\u001b[39m) \u001b[39mas\u001b[39;00m file:\n\u001b[0;32m----> 2\u001b[0m     JC_MPS_dict \u001b[39m=\u001b[39m pickle\u001b[39m.\u001b[39;49mload(file)\n",
      "\u001b[0;31mEOFError\u001b[0m: Ran out of input"
     ]
    }
   ],
   "source": [
    "with open('JC_MPS.pickle', 'rb') as file:\n",
    "    JC_MPS_dict = pickle.load(file)"
   ]
  },
  {
   "cell_type": "markdown",
   "metadata": {},
   "source": [
    "Define corr fcns:"
   ]
  },
  {
   "cell_type": "code",
   "execution_count": 9,
   "metadata": {},
   "outputs": [],
   "source": [
    "Z_A, Z_B = [np.kron(pauli('Z'), np.eye(2)), np.kron(np.eye(2),pauli('Z'))]\n",
    "X_A, X_B = [np.kron(pauli('X'), np.eye(2)), np.kron(np.eye(2),pauli('X'))]\n",
    "\n",
    "\n",
    "#for Motz\n",
    "Zspin1 = pauli('Z', dim=3)\n",
    "Xspin1 = pauli('X', dim=3)"
   ]
  },
  {
   "cell_type": "markdown",
   "metadata": {},
   "source": [
    "We will use parallelization in what follows but we need to break it up into once cell per theta because cpu cant hand multiple L =800 calculations per run without crashing"
   ]
  },
  {
   "cell_type": "code",
   "execution_count": 34,
   "metadata": {},
   "outputs": [],
   "source": [
    "def ZZ(stuff):\n",
    "    data, x = stuff\n",
    "    return np.real(JC_MPS_dict[data].correlation(Z_A+Z_B, 2,x))\n",
    "\n",
    "def XX(stuff):\n",
    "    data, x = stuff\n",
    "    return np.real(JC_MPS_dict[data].correlation(X_A+X_B, 2,x))"
   ]
  },
  {
   "cell_type": "markdown",
   "metadata": {},
   "source": [
    "Lets give things a try: run for fixed theta and append to csv"
   ]
  },
  {
   "cell_type": "code",
   "execution_count": 29,
   "metadata": {},
   "outputs": [
    {
     "name": "stdout",
     "output_type": "stream",
     "text": [
      "done with round of length 10 and it took 18.41816997528076 seconds\n",
      "done with round of length 30 and it took 25.025104522705078 seconds\n",
      "done with round of length 100 and it took 26.760475397109985 seconds\n",
      "done with round of length 200 and it took 28.273147583007812 seconds\n",
      "done with round of length 800 and it took 206.737957239151 seconds\n",
      "done with round of length 10 and it took 12.242265224456787 seconds\n",
      "done with round of length 30 and it took 22.721994161605835 seconds\n",
      "done with round of length 100 and it took 23.585844039916992 seconds\n",
      "done with round of length 200 and it took 24.6839861869812 seconds\n",
      "done with round of length 800 and it took 174.20477938652039 seconds\n",
      "done with round of length 10 and it took 13.128798484802246 seconds\n",
      "done with round of length 30 and it took 20.614906311035156 seconds\n",
      "done with round of length 100 and it took 26.233158111572266 seconds\n",
      "done with round of length 200 and it took 24.86655616760254 seconds\n",
      "done with round of length 800 and it took 177.95229482650757 seconds\n",
      "done with round of length 10 and it took 13.86314845085144 seconds\n",
      "done with round of length 30 and it took 20.407025575637817 seconds\n",
      "done with round of length 100 and it took 23.802644968032837 seconds\n",
      "done with round of length 200 and it took 30.12847900390625 seconds\n",
      "done with round of length 800 and it took 172.21854186058044 seconds\n",
      "done with round of length 10 and it took 12.406288862228394 seconds\n",
      "done with round of length 30 and it took 20.23886275291443 seconds\n",
      "done with round of length 100 and it took 24.806577920913696 seconds\n",
      "done with round of length 200 and it took 26.216240406036377 seconds\n",
      "done with round of length 800 and it took 170.01895833015442 seconds\n",
      "done with round of length 10 and it took 11.977273225784302 seconds\n",
      "done with round of length 30 and it took 20.618954181671143 seconds\n",
      "done with round of length 100 and it took 25.62266206741333 seconds\n",
      "done with round of length 200 and it took 27.741945266723633 seconds\n",
      "done with round of length 800 and it took 187.13771200180054 seconds\n",
      "done with round of length 10 and it took 12.583185911178589 seconds\n",
      "done with round of length 30 and it took 18.81885290145874 seconds\n",
      "done with round of length 100 and it took 26.822601795196533 seconds\n",
      "done with round of length 200 and it took 25.690674304962158 seconds\n",
      "done with round of length 800 and it took 171.64772033691406 seconds\n",
      "done with round of length 10 and it took 11.408634901046753 seconds\n",
      "done with round of length 30 and it took 21.9050030708313 seconds\n",
      "done with round of length 100 and it took 25.579009294509888 seconds\n",
      "done with round of length 200 and it took 26.13676929473877 seconds\n",
      "done with round of length 800 and it took 171.0320339202881 seconds\n"
     ]
    }
   ],
   "source": [
    "for theta in theta_list[1:]:\n",
    "    #first do ZZ data\n",
    "    for N in N_list:\n",
    "        t1 = time.time()\n",
    "        x_data = list(range(2,N,int(N/20)+1))\n",
    "        stuff_list = [[(theta,N), x] for x in x_data]\n",
    "        \n",
    "        ZZ_result = Parallel(n_jobs=-1)(delayed(ZZ)(stuff) for stuff in stuff_list)\n",
    "        ZZ_data = {'data_dictionary': str([theta, N]), 'x_data': str(x_data), 'ZZ_data': str(ZZ_result)}\n",
    "        ZZ_df = pd.DataFrame(ZZ_data, index=[0])\n",
    "        ZZ_df.to_csv('ZZ.csv', mode='a', header=False, index = False)\n",
    "        t2 = time.time()\n",
    "        print(f'done with round of length {N} and it took {t2-t1} seconds')"
   ]
  },
  {
   "cell_type": "markdown",
   "metadata": {},
   "source": [
    "## Now do the same for XX data"
   ]
  },
  {
   "cell_type": "code",
   "execution_count": 35,
   "metadata": {},
   "outputs": [
    {
     "name": "stdout",
     "output_type": "stream",
     "text": [
      "done with round of length 10 and it took 21.01043200492859 seconds\n",
      "done with round of length 30 and it took 24.184576749801636 seconds\n",
      "done with round of length 100 and it took 27.04251503944397 seconds\n",
      "done with round of length 200 and it took 26.34411358833313 seconds\n",
      "done with round of length 800 and it took 187.73024678230286 seconds\n",
      "done with round of length 10 and it took 13.104233741760254 seconds\n",
      "done with round of length 30 and it took 18.65590214729309 seconds\n",
      "done with round of length 100 and it took 24.88880944252014 seconds\n",
      "done with round of length 200 and it took 25.018303871154785 seconds\n",
      "done with round of length 800 and it took 196.76593399047852 seconds\n",
      "done with round of length 10 and it took 13.005044221878052 seconds\n",
      "done with round of length 30 and it took 21.069958925247192 seconds\n",
      "done with round of length 100 and it took 25.525724172592163 seconds\n",
      "done with round of length 200 and it took 25.74123740196228 seconds\n",
      "done with round of length 800 and it took 182.16281986236572 seconds\n",
      "done with round of length 10 and it took 12.213335752487183 seconds\n",
      "done with round of length 30 and it took 19.13813877105713 seconds\n",
      "done with round of length 100 and it took 24.296285152435303 seconds\n",
      "done with round of length 200 and it took 26.484586000442505 seconds\n",
      "done with round of length 800 and it took 171.24755215644836 seconds\n",
      "done with round of length 10 and it took 10.97185730934143 seconds\n",
      "done with round of length 30 and it took 21.124206066131592 seconds\n",
      "done with round of length 100 and it took 25.245699644088745 seconds\n",
      "done with round of length 200 and it took 27.097923755645752 seconds\n",
      "done with round of length 800 and it took 173.05258011817932 seconds\n",
      "done with round of length 10 and it took 11.597124814987183 seconds\n",
      "done with round of length 30 and it took 20.74640917778015 seconds\n",
      "done with round of length 100 and it took 23.463096141815186 seconds\n",
      "done with round of length 200 and it took 25.645824432373047 seconds\n",
      "done with round of length 800 and it took 172.11737656593323 seconds\n",
      "done with round of length 10 and it took 12.188918590545654 seconds\n",
      "done with round of length 30 and it took 19.523164987564087 seconds\n",
      "done with round of length 100 and it took 24.5307879447937 seconds\n",
      "done with round of length 200 and it took 26.493241786956787 seconds\n",
      "done with round of length 800 and it took 175.15288662910461 seconds\n",
      "done with round of length 10 and it took 12.40030026435852 seconds\n",
      "done with round of length 30 and it took 20.88174080848694 seconds\n",
      "done with round of length 100 and it took 24.933048009872437 seconds\n",
      "done with round of length 200 and it took 25.57253909111023 seconds\n",
      "done with round of length 800 and it took 171.56810212135315 seconds\n",
      "done with round of length 10 and it took 12.345565557479858 seconds\n",
      "done with round of length 30 and it took 20.22080373764038 seconds\n",
      "done with round of length 100 and it took 25.226550579071045 seconds\n",
      "done with round of length 200 and it took 26.09237551689148 seconds\n",
      "done with round of length 800 and it took 169.55923891067505 seconds\n"
     ]
    }
   ],
   "source": [
    "for theta in theta_list:\n",
    "    #first do XX data\n",
    "    for N in N_list:\n",
    "        t1 = time.time()\n",
    "        x_data = list(range(2,N,int(N/20)+1))\n",
    "        stuff_list = [[(theta,N), x] for x in x_data]\n",
    "        \n",
    "        XX_result = Parallel(n_jobs=-1)(delayed(XX)(stuff) for stuff in stuff_list)\n",
    "        XX_data = {'data_dictionary': str([theta, N]), 'x_data': str(x_data), 'XX_data': str(XX_result)}\n",
    "        XX_df = pd.DataFrame(XX_data, index=[0])\n",
    "        XX_df.to_csv('XX.csv', mode='a', header=False, index = False)\n",
    "        t2 = time.time()\n",
    "        print(f'done with round of length {N} and it took {t2-t1} seconds')"
   ]
  },
  {
   "cell_type": "markdown",
   "metadata": {},
   "source": [
    "# Now lets do this for Motzkin also:"
   ]
  },
  {
   "cell_type": "code",
   "execution_count": 5,
   "metadata": {},
   "outputs": [],
   "source": [
    "with open('Motz_MPS.pickle', 'rb') as file:\n",
    "    Motz_MPS_dict = pickle.load(file)"
   ]
  },
  {
   "cell_type": "code",
   "execution_count": 6,
   "metadata": {},
   "outputs": [],
   "source": [
    "def ZZMotz(stuff):\n",
    "    data, x = stuff\n",
    "    return np.real(Motz_MPS_dict[data].correlation(Zspin1, 2,x))\n",
    "\n",
    "def XXMotz(stuff):\n",
    "    data, x = stuff\n",
    "    return np.real(Motz_MPS_dict[data].correlation(Xspin1, 2,x))"
   ]
  },
  {
   "cell_type": "code",
   "execution_count": 10,
   "metadata": {},
   "outputs": [
    {
     "name": "stderr",
     "output_type": "stream",
     "text": [
      "/Library/Frameworks/Python.framework/Versions/3.10/lib/python3.10/site-packages/quimb/core.py:34: UserWarning: 'NUMBA_NUM_THREADS' has been set elsewhere and doesn't match the value 'quimb' has tried to set - 8 vs 1.\n",
      "  warnings.warn(\n",
      "/Library/Frameworks/Python.framework/Versions/3.10/lib/python3.10/site-packages/quimb/core.py:34: UserWarning: 'NUMBA_NUM_THREADS' has been set elsewhere and doesn't match the value 'quimb' has tried to set - 8 vs 1.\n",
      "  warnings.warn(\n",
      "/Library/Frameworks/Python.framework/Versions/3.10/lib/python3.10/site-packages/quimb/core.py:34: UserWarning: 'NUMBA_NUM_THREADS' has been set elsewhere and doesn't match the value 'quimb' has tried to set - 8 vs 1.\n",
      "  warnings.warn(\n",
      "/Library/Frameworks/Python.framework/Versions/3.10/lib/python3.10/site-packages/quimb/core.py:34: UserWarning: 'NUMBA_NUM_THREADS' has been set elsewhere and doesn't match the value 'quimb' has tried to set - 8 vs 1.\n",
      "  warnings.warn(\n",
      "/Library/Frameworks/Python.framework/Versions/3.10/lib/python3.10/site-packages/quimb/core.py:34: UserWarning: 'NUMBA_NUM_THREADS' has been set elsewhere and doesn't match the value 'quimb' has tried to set - 8 vs 1.\n",
      "  warnings.warn(\n",
      "/Library/Frameworks/Python.framework/Versions/3.10/lib/python3.10/site-packages/quimb/core.py:34: UserWarning: 'NUMBA_NUM_THREADS' has been set elsewhere and doesn't match the value 'quimb' has tried to set - 8 vs 1.\n",
      "  warnings.warn(\n",
      "/Library/Frameworks/Python.framework/Versions/3.10/lib/python3.10/site-packages/quimb/core.py:34: UserWarning: 'NUMBA_NUM_THREADS' has been set elsewhere and doesn't match the value 'quimb' has tried to set - 8 vs 1.\n",
      "  warnings.warn(\n",
      "/Library/Frameworks/Python.framework/Versions/3.10/lib/python3.10/site-packages/quimb/core.py:34: UserWarning: 'NUMBA_NUM_THREADS' has been set elsewhere and doesn't match the value 'quimb' has tried to set - 8 vs 1.\n",
      "  warnings.warn(\n"
     ]
    },
    {
     "name": "stdout",
     "output_type": "stream",
     "text": [
      "done with round of length 10 and it took 2.5781090259552 seconds\n",
      "done with round of length 30 and it took 1.2496321201324463 seconds\n",
      "done with round of length 100 and it took 3.908540964126587 seconds\n",
      "done with round of length 200 and it took 7.765695810317993 seconds\n",
      "done with round of length 800 and it took 194.10240173339844 seconds\n"
     ]
    }
   ],
   "source": [
    "#first do ZZ data\n",
    "for N in N_list:\n",
    "    t1 = time.time()\n",
    "    x_data = list(range(2,N,int(N/20)+1))\n",
    "    stuff_list = [[N, x] for x in x_data]\n",
    "    \n",
    "    ZZ_result = Parallel(n_jobs=-1)(delayed(ZZMotz)(stuff) for stuff in stuff_list)\n",
    "    ZZ_data = {'data_dictionary': str(N), 'x_data': str(x_data), 'ZZ_data': str(ZZ_result)}\n",
    "    ZZ_df = pd.DataFrame(ZZ_data, index=[0])\n",
    "    ZZ_df.to_csv('ZZMotz.csv', mode='a', header=False, index = False)\n",
    "    t2 = time.time()\n",
    "    print(f'done with round of length {N} and it took {t2-t1} seconds')"
   ]
  },
  {
   "cell_type": "code",
   "execution_count": 11,
   "metadata": {},
   "outputs": [
    {
     "name": "stderr",
     "output_type": "stream",
     "text": [
      "/Library/Frameworks/Python.framework/Versions/3.10/lib/python3.10/site-packages/quimb/core.py:34: UserWarning: 'NUMBA_NUM_THREADS' has been set elsewhere and doesn't match the value 'quimb' has tried to set - 8 vs 1.\n",
      "  warnings.warn(\n",
      "/Library/Frameworks/Python.framework/Versions/3.10/lib/python3.10/site-packages/quimb/core.py:34: UserWarning: 'NUMBA_NUM_THREADS' has been set elsewhere and doesn't match the value 'quimb' has tried to set - 8 vs 1.\n",
      "  warnings.warn(\n",
      "/Library/Frameworks/Python.framework/Versions/3.10/lib/python3.10/site-packages/quimb/core.py:34: UserWarning: 'NUMBA_NUM_THREADS' has been set elsewhere and doesn't match the value 'quimb' has tried to set - 8 vs 1.\n",
      "  warnings.warn(\n",
      "/Library/Frameworks/Python.framework/Versions/3.10/lib/python3.10/site-packages/quimb/core.py:34: UserWarning: 'NUMBA_NUM_THREADS' has been set elsewhere and doesn't match the value 'quimb' has tried to set - 8 vs 1.\n",
      "  warnings.warn(\n",
      "/Library/Frameworks/Python.framework/Versions/3.10/lib/python3.10/site-packages/quimb/core.py:34: UserWarning: 'NUMBA_NUM_THREADS' has been set elsewhere and doesn't match the value 'quimb' has tried to set - 8 vs 1.\n",
      "  warnings.warn(\n",
      "/Library/Frameworks/Python.framework/Versions/3.10/lib/python3.10/site-packages/quimb/core.py:34: UserWarning: 'NUMBA_NUM_THREADS' has been set elsewhere and doesn't match the value 'quimb' has tried to set - 8 vs 1.\n",
      "  warnings.warn(\n",
      "/Library/Frameworks/Python.framework/Versions/3.10/lib/python3.10/site-packages/quimb/core.py:34: UserWarning: 'NUMBA_NUM_THREADS' has been set elsewhere and doesn't match the value 'quimb' has tried to set - 8 vs 1.\n",
      "  warnings.warn(\n",
      "/Library/Frameworks/Python.framework/Versions/3.10/lib/python3.10/site-packages/quimb/core.py:34: UserWarning: 'NUMBA_NUM_THREADS' has been set elsewhere and doesn't match the value 'quimb' has tried to set - 8 vs 1.\n",
      "  warnings.warn(\n"
     ]
    },
    {
     "name": "stdout",
     "output_type": "stream",
     "text": [
      "done with round of length 10 and it took 2.8904733657836914 seconds\n",
      "done with round of length 30 and it took 1.3095149993896484 seconds\n",
      "done with round of length 100 and it took 4.137630939483643 seconds\n",
      "done with round of length 200 and it took 8.061969757080078 seconds\n",
      "done with round of length 800 and it took 192.03184390068054 seconds\n"
     ]
    }
   ],
   "source": [
    "#first do XX data\n",
    "for N in N_list:\n",
    "    t1 = time.time()\n",
    "    x_data = list(range(2,N,int(N/20)+1))\n",
    "    stuff_list = [[N, x] for x in x_data]\n",
    "    \n",
    "    XX_result = Parallel(n_jobs=-1)(delayed(XXMotz)(stuff) for stuff in stuff_list)\n",
    "    XX_data = {'data_dictionary': str(N), 'x_data': str(x_data), 'XX_data': str(XX_result)}\n",
    "    XX_df = pd.DataFrame(XX_data, index=[0])\n",
    "    XX_df.to_csv('XXMotz.csv', mode='a', header=False, index = False)\n",
    "    t2 = time.time()\n",
    "    print(f'done with round of length {N} and it took {t2-t1} seconds')"
   ]
  },
  {
   "cell_type": "markdown",
   "metadata": {},
   "source": [
    "# Now lets retrieve data from the csv file and plot it"
   ]
  },
  {
   "cell_type": "code",
   "execution_count": null,
   "metadata": {},
   "outputs": [],
   "source": [
    "def get_list_values(column_value):\n",
    "    \n",
    "    \"\"\"\n",
    "    Convvert a string array to actual array for first elt in a pd.Series\n",
    "    \"\"\"\n",
    "    \n",
    "    return ast.literal_eval(str(column_value.values[0]))"
   ]
  },
  {
   "cell_type": "code",
   "execution_count": null,
   "metadata": {},
   "outputs": [
    {
     "data": {
      "text/plain": [
       "Text(0.5, 1.0, '[1.772453850905516, 800]')"
      ]
     },
     "execution_count": 60,
     "metadata": {},
     "output_type": "execute_result"
    },
    {
     "data": {
      "image/png": "[encoded data removed]",
      "text/plain": [
       "<Figure size 1440x720 with 1 Axes>"
      ]
     },
     "metadata": {
      "needs_background": "light"
     },
     "output_type": "display_data"
    }
   ],
   "source": [
    "dfZ = pd.read_csv('ZZ.csv', names=['dict', 'x_data', 'Z_data'],)\n",
    "dfX = pd.read_csv('XX.csv', names=['dict', 'x_data', 'X_data'],)\n",
    "\n",
    "key = df['dict'].values[14]\t\n",
    "\n",
    "\n",
    "x_list = get_list_values(dfZ[dfZ['dict']==key]['x_data'])\n",
    "ZZ_list = get_list_values(dfZ[dfZ['dict']==key]['Z_data'])\n",
    "XX_list = get_list_values(dfX[dfX['dict']==key]['X_data'])\n",
    "\n",
    "plt.figure(figsize = (20,10))\n",
    "plt.plot(x_list,ZZ_list, '.-')\n",
    "plt.plot(x_list,XX_list, '.-')\n",
    "\n",
    "plt.title(key)"
   ]
  },
  {
   "cell_type": "code",
   "execution_count": null,
   "metadata": {},
   "outputs": [
    {
     "data": {
      "text/plain": [
       "array(['[5.317361552716548, 10]', '[5.317361552716548, 30]',\n",
       "       '[5.317361552716548, 100]', '[5.317361552716548, 200]',\n",
       "       '[5.317361552716548, 800]', '[2.658680776358274, 10]',\n",
       "       '[2.658680776358274, 30]', '[2.658680776358274, 100]',\n",
       "       '[2.658680776358274, 200]', '[2.658680776358274, 800]',\n",
       "       '[1.772453850905516, 10]', '[1.772453850905516, 30]',\n",
       "       '[1.772453850905516, 100]', '[1.772453850905516, 200]',\n",
       "       '[1.772453850905516, 800]', '[1.329340388179137, 10]',\n",
       "       '[1.329340388179137, 30]', '[1.329340388179137, 100]',\n",
       "       '[1.329340388179137, 200]', '[1.329340388179137, 800]',\n",
       "       '[1.0634723105433097, 10]', '[1.0634723105433097, 30]',\n",
       "       '[1.0634723105433097, 100]', '[1.0634723105433097, 200]',\n",
       "       '[1.0634723105433097, 800]', '[0.886226925452758, 10]',\n",
       "       '[0.886226925452758, 30]', '[0.886226925452758, 100]',\n",
       "       '[0.886226925452758, 200]', '[0.886226925452758, 800]',\n",
       "       '[0.7596230789595069, 10]', '[0.7596230789595069, 30]',\n",
       "       '[0.7596230789595069, 100]', '[0.7596230789595069, 200]',\n",
       "       '[0.7596230789595069, 800]', '[0.6646701940895685, 10]',\n",
       "       '[0.6646701940895685, 30]', '[0.6646701940895685, 100]',\n",
       "       '[0.6646701940895685, 200]', '[0.6646701940895685, 800]',\n",
       "       '[0.5908179503018387, 10]', '[0.5908179503018387, 30]',\n",
       "       '[0.5908179503018387, 100]', '[0.5908179503018387, 200]',\n",
       "       '[0.5908179503018387, 800]'], dtype=object)"
      ]
     },
     "execution_count": 55,
     "metadata": {},
     "output_type": "execute_result"
    }
   ],
   "source": [
    "df['dict'].values"
   ]
  },
  {
   "cell_type": "code",
   "execution_count": null,
   "metadata": {},
   "outputs": [
    {
     "data": {
      "text/plain": [
       "[2, 4, 6, 8, 10, 12, 14, 16, 18, 20, 22, 24, 26, 28]"
      ]
     },
     "execution_count": 25,
     "metadata": {},
     "output_type": "execute_result"
    }
   ],
   "source": [
    "get_list_values(df[df['dict']=='[5.317361552716548, 30]']['x_data'])"
   ]
  },
  {
   "cell_type": "code",
   "execution_count": null,
   "metadata": {},
   "outputs": [],
   "source": []
  }
 ],
 "metadata": {
  "kernelspec": {
   "display_name": "Python 3.10.8 64-bit",
   "language": "python",
   "name": "python3"
  },
  "language_info": {
   "codemirror_mode": {
    "name": "ipython",
    "version": 3
   },
   "file_extension": ".py",
   "mimetype": "text/x-python",
   "name": "python",
   "nbconvert_exporter": "python",
   "pygments_lexer": "ipython3",
   "version": "3.10.8"
  },
  "vscode": {
   "interpreter": {
    "hash": "aee8b7b246df8f9039afb4144a1f6fd8d2ca17a180786b69acc140d282b71a49"
   }
  }
 },
 "nbformat": 4,
 "nbformat_minor": 2
}
